{
 "cells": [
  {
   "cell_type": "code",
   "execution_count": 12,
   "id": "40f1203c",
   "metadata": {},
   "outputs": [],
   "source": [
    "from py import nets\n",
    "import torch\n",
    "from py.utils import get_default_device, imshow\n",
    "from py.train import train_mnist, test, test_on_attack\n",
    "from torch import optim\n",
    "from torch import nn\n",
    "import torchvision\n",
    "from torchvision import datasets, transforms\n",
    "from torch.utils.data import Dataset, DataLoader\n",
    "from torch import optim\n",
    "from py.train import train_mnist, train_with_validation\n",
    "from py.nets import CIFARModel\n",
    "from py import utils\n",
    "from torchvision import datasets, transforms\n",
    "from torch.utils.data.sampler import SubsetRandomSampler\n",
    "import torch\n",
    "import numpy as np\n",
    "from algo.variable_optim import VSGD\n",
    "from py import nets, utils, train\n",
    "from torch import optim\n",
    "import os.path\n",
    " \n",
    "import matplotlib.pyplot as plt\n",
    "%matplotlib inline\n",
    "\n",
    "n_epochs = 30\n",
    "batch_size = 64\n",
    "learning_rate = 0.01\n",
    "momentum = 0.9\n",
    "num_workers=4"
   ]
  },
  {
   "cell_type": "code",
   "execution_count": null,
   "id": "af13bd03",
   "metadata": {},
   "outputs": [],
   "source": []
  },
  {
   "cell_type": "code",
   "execution_count": null,
   "id": "cc406d4d",
   "metadata": {},
   "outputs": [],
   "source": []
  },
  {
   "cell_type": "markdown",
   "id": "bee541d0",
   "metadata": {},
   "source": [
    "# Specifiy the variabilities to be be trained on for the VSGD algorithm"
   ]
  },
  {
   "cell_type": "code",
   "execution_count": 13,
   "id": "3ccb10ec",
   "metadata": {},
   "outputs": [],
   "source": [
    "variabilities = [0.1, 0.0015, 0.01, 0.002, 0.005]"
   ]
  },
  {
   "cell_type": "markdown",
   "id": "72efc508",
   "metadata": {},
   "source": [
    "# Prepare train and validation loaders"
   ]
  },
  {
   "cell_type": "code",
   "execution_count": 14,
   "id": "aadd94bb",
   "metadata": {},
   "outputs": [
    {
     "name": "stdout",
     "output_type": "stream",
     "text": [
      "Files already downloaded and verified\n",
      "Files already downloaded and verified\n"
     ]
    }
   ],
   "source": [
    "classes = ['airplane', 'automobile', 'bird', 'cat', 'deer',\n",
    "               'dog', 'frog', 'horse', 'ship', 'truck']\n",
    "\n",
    "MEAN = [0.49139968, 0.48215841, 0.44653091]\n",
    "STD  = [0.24703223, 0.24348513, 0.26158784]\n",
    "\n",
    "transform = transforms.Compose([\n",
    "    transforms.ToTensor(),\n",
    "    transforms.Normalize(MEAN, STD)\n",
    "])\n",
    "\n",
    "n_epochs = 30\n",
    "batch_size = 64\n",
    "learning_rate = 0.01\n",
    "momentum = 0.9\n",
    "num_workers=4\n",
    "\n",
    "# Proportion of training set to use as validation\n",
    "validation_size = 0.2\n",
    "\n",
    "train_data = datasets.CIFAR10('./datasets', train=True, download=True, transform=transform)\n",
    "test_data = datasets.CIFAR10('./datasets', train=False, download=True, transform=transform)\n",
    "\n",
    "# Obtain training indexs that will be used for training and validation loaders\n",
    "num_train = len(train_data)\n",
    "indices = list(range(num_train))\n",
    "np.random.shuffle(indices)\n",
    "split = int(np.floor(validation_size * num_train))\n",
    "train_idx, valid_idx = indices[split:], indices[:split]\n",
    "\n",
    "# Define samplers for obtaining training and validation batches\n",
    "train_sampler = SubsetRandomSampler(train_idx)\n",
    "valid_sampler = SubsetRandomSampler(valid_idx)\n",
    "\n",
    "# Prepare dataloaders with train and valid samplers\n",
    "train_loader = torch.utils.data.DataLoader(train_data, batch_size=batch_size,\n",
    "    sampler=train_sampler, num_workers=num_workers)\n",
    "valid_loader = torch.utils.data.DataLoader(train_data, batch_size=batch_size, \n",
    "    sampler=valid_sampler, num_workers=num_workers)\n",
    "\n",
    "test_loader = torch.utils.data.DataLoader(test_data, batch_size=batch_size, shuffle=True, num_workers=4)"
   ]
  },
  {
   "cell_type": "markdown",
   "id": "45653bff",
   "metadata": {},
   "source": [
    "# Train Base Model"
   ]
  },
  {
   "cell_type": "code",
   "execution_count": 15,
   "id": "013ff977",
   "metadata": {},
   "outputs": [
    {
     "data": {
      "application/vnd.jupyter.widget-view+json": {
       "model_id": "443c2e2b0f284761890be2de32403be6",
       "version_major": 2,
       "version_minor": 0
      },
      "text/plain": [
       "  0%|          | 0/4710 [00:00<?, ?it/s]"
      ]
     },
     "metadata": {},
     "output_type": "display_data"
    },
    {
     "name": "stdout",
     "output_type": "stream",
     "text": [
      "Epoch: 1 \tTraining Loss: 1.585709 \tValidation Loss: 0.328848\n",
      "Validation loss decreased (inf --> 0.328848).  Saving model ...\n",
      "Epoch: 2 \tTraining Loss: 1.104149 \tValidation Loss: 0.241271\n",
      "Validation loss decreased (0.328848 --> 0.241271).  Saving model ...\n",
      "Epoch: 3 \tTraining Loss: 0.880009 \tValidation Loss: 0.211591\n",
      "Validation loss decreased (0.241271 --> 0.211591).  Saving model ...\n",
      "Epoch: 4 \tTraining Loss: 0.738817 \tValidation Loss: 0.182225\n",
      "Validation loss decreased (0.211591 --> 0.182225).  Saving model ...\n",
      "Epoch: 5 \tTraining Loss: 0.635542 \tValidation Loss: 0.183968\n",
      "Epoch: 6 \tTraining Loss: 0.545183 \tValidation Loss: 0.173751\n",
      "Validation loss decreased (0.182225 --> 0.173751).  Saving model ...\n",
      "Epoch: 7 \tTraining Loss: 0.470039 \tValidation Loss: 0.165668\n",
      "Validation loss decreased (0.173751 --> 0.165668).  Saving model ...\n",
      "Epoch: 8 \tTraining Loss: 0.387493 \tValidation Loss: 0.176037\n",
      "Epoch: 9 \tTraining Loss: 0.329655 \tValidation Loss: 0.193200\n",
      "Epoch: 10 \tTraining Loss: 0.272374 \tValidation Loss: 0.202477\n",
      "Epoch: 11 \tTraining Loss: 0.227653 \tValidation Loss: 0.212654\n",
      "Epoch: 12 \tTraining Loss: 0.190093 \tValidation Loss: 0.224649\n",
      "Epoch: 13 \tTraining Loss: 0.171729 \tValidation Loss: 0.249870\n",
      "Epoch: 14 \tTraining Loss: 0.143231 \tValidation Loss: 0.259367\n",
      "Epoch: 15 \tTraining Loss: 0.131811 \tValidation Loss: 0.278844\n",
      "Epoch: 16 \tTraining Loss: 0.119156 \tValidation Loss: 0.282147\n",
      "Epoch: 17 \tTraining Loss: 0.106188 \tValidation Loss: 0.303716\n",
      "Epoch: 18 \tTraining Loss: 0.092315 \tValidation Loss: 0.314570\n",
      "Epoch: 19 \tTraining Loss: 0.088969 \tValidation Loss: 0.305110\n",
      "Epoch: 20 \tTraining Loss: 0.091145 \tValidation Loss: 0.312420\n",
      "Epoch: 21 \tTraining Loss: 0.072103 \tValidation Loss: 0.382288\n",
      "Epoch: 22 \tTraining Loss: 0.071047 \tValidation Loss: 0.346503\n",
      "Epoch: 23 \tTraining Loss: 0.055182 \tValidation Loss: 0.363556\n",
      "Epoch: 24 \tTraining Loss: 0.056082 \tValidation Loss: 0.382735\n",
      "Epoch: 25 \tTraining Loss: 0.058776 \tValidation Loss: 0.363009\n",
      "Epoch: 26 \tTraining Loss: 0.047734 \tValidation Loss: 0.381893\n",
      "Epoch: 27 \tTraining Loss: 0.053604 \tValidation Loss: 0.373238\n",
      "Epoch: 28 \tTraining Loss: 0.043427 \tValidation Loss: 0.395072\n",
      "Epoch: 29 \tTraining Loss: 0.044263 \tValidation Loss: 0.420164\n",
      "Epoch: 30 \tTraining Loss: 0.055285 \tValidation Loss: 0.394706\n"
     ]
    }
   ],
   "source": [
    "base_model = nets.CIFARModel()\n",
    "device = utils.get_default_device()\n",
    "base_model.to(device)\n",
    "\n",
    "# specify optimizer\n",
    "sgd_optim = optim.SGD(base_model.parameters(), lr=learning_rate, momentum=momentum)\n",
    "\n",
    "train_losslist, valid_losslist = train_with_validation(base_model, sgd_optim, train_loader, valid_loader, device, classes, n_epochs=n_epochs)\n",
    "torch.save(base_model.state_dict(),\"./models/base_cifar.pt\")"
   ]
  },
  {
   "cell_type": "code",
   "execution_count": 16,
   "id": "4b8747a1",
   "metadata": {},
   "outputs": [
    {
     "name": "stdout",
     "output_type": "stream",
     "text": [
      "30\n",
      "[1.5857092805480957, 1.1041489790344239, 0.880008833694458, 0.7388174639892578, 0.6355419869995117, 0.5451831252288818, 0.47003886573791503, 0.38749284851074217, 0.32965544088363646, 0.2723742058563232, 0.22765276593208314, 0.19009262511253358, 0.17172928764343262, 0.1432314483475685, 0.13181052635192872, 0.11915607685089111, 0.10618808075428009, 0.09231512966752052, 0.08896913398742676, 0.09114507666707039, 0.07210340734541416, 0.0710466730311513, 0.0551821997334063, 0.05608214034102857, 0.0587760595472157, 0.047733803695887325, 0.053604069656729696, 0.04342708705157042, 0.04426295657359064, 0.05528488541081548]\n"
     ]
    },
    {
     "data": {
      "image/png": "[encoded data removed]",
      "text/plain": [
       "<Figure size 432x288 with 1 Axes>"
      ]
     },
     "metadata": {
      "needs_background": "light"
     },
     "output_type": "display_data"
    }
   ],
   "source": [
    "print(n_epochs)\n",
    "print(train_losslist)\n",
    "epoch_list = list(range(1, n_epochs+1))\n",
    "plt.plot(epoch_list, valid_losslist)\n",
    "plt.ylabel(\"Loss\")\n",
    "plt.xlabel(\"Epoch\")\n",
    "plt.title(\"Loss on validation set\")\n",
    "plt.savefig('./plots/validation_loss_cifar.png', dpi=300, bbox_inches='tight')\n",
    "plt.show()"
   ]
  },
  {
   "cell_type": "code",
   "execution_count": 17,
   "id": "84347f44",
   "metadata": {},
   "outputs": [
    {
     "data": {
      "application/vnd.jupyter.widget-view+json": {
       "model_id": "f123b991700041699c6949a5a7b65c78",
       "version_major": 2,
       "version_minor": 0
      },
      "text/plain": [
       "  0%|          | 0/4710 [00:00<?, ?it/s]"
      ]
     },
     "metadata": {},
     "output_type": "display_data"
    },
    {
     "name": "stdout",
     "output_type": "stream",
     "text": [
      "Epoch: 1 \tTraining Loss: 1.913106 \tValidation Loss: 0.463052\n",
      "Validation loss decreased (inf --> 0.463052).  Saving model ...\n",
      "Epoch: 2 \tTraining Loss: 1.846525 \tValidation Loss: 0.460903\n",
      "Validation loss decreased (0.463052 --> 0.460903).  Saving model ...\n",
      "Epoch: 3 \tTraining Loss: 1.845757 \tValidation Loss: 0.461031\n",
      "Epoch: 4 \tTraining Loss: 1.846878 \tValidation Loss: 0.461484\n",
      "Epoch: 5 \tTraining Loss: 1.845993 \tValidation Loss: 0.461320\n",
      "Epoch: 6 \tTraining Loss: 1.846006 \tValidation Loss: 0.463282\n",
      "Epoch: 7 \tTraining Loss: 1.845662 \tValidation Loss: 0.461940\n",
      "Epoch: 8 \tTraining Loss: 1.846472 \tValidation Loss: 0.460528\n",
      "Validation loss decreased (0.460903 --> 0.460528).  Saving model ...\n",
      "Epoch: 9 \tTraining Loss: 1.846212 \tValidation Loss: 0.461463\n",
      "Epoch: 10 \tTraining Loss: 1.846169 \tValidation Loss: 0.462007\n",
      "Epoch: 11 \tTraining Loss: 1.846309 \tValidation Loss: 0.461486\n",
      "Epoch: 12 \tTraining Loss: 1.845639 \tValidation Loss: 0.462989\n",
      "Epoch: 13 \tTraining Loss: 1.845778 \tValidation Loss: 0.461494\n",
      "Epoch: 14 \tTraining Loss: 1.845905 \tValidation Loss: 0.461583\n",
      "Epoch: 15 \tTraining Loss: 1.845800 \tValidation Loss: 0.460932\n",
      "Epoch: 16 \tTraining Loss: 1.846334 \tValidation Loss: 0.460643\n",
      "Epoch: 17 \tTraining Loss: 1.846455 \tValidation Loss: 0.461714\n",
      "Epoch: 18 \tTraining Loss: 1.846206 \tValidation Loss: 0.461971\n",
      "Epoch: 19 \tTraining Loss: 1.845605 \tValidation Loss: 0.461401\n",
      "Epoch: 20 \tTraining Loss: 1.846366 \tValidation Loss: 0.461532\n",
      "Epoch: 21 \tTraining Loss: 1.845934 \tValidation Loss: 0.461797\n",
      "Epoch: 22 \tTraining Loss: 1.845167 \tValidation Loss: 0.461889\n",
      "Epoch: 23 \tTraining Loss: 1.846208 \tValidation Loss: 0.461309\n",
      "Epoch: 24 \tTraining Loss: 1.845578 \tValidation Loss: 0.460609\n",
      "Epoch: 25 \tTraining Loss: 1.845954 \tValidation Loss: 0.462257\n",
      "Epoch: 26 \tTraining Loss: 1.845544 \tValidation Loss: 0.462606\n",
      "Epoch: 27 \tTraining Loss: 1.845772 \tValidation Loss: 0.461579\n",
      "Epoch: 28 \tTraining Loss: 1.846189 \tValidation Loss: 0.461117\n",
      "Epoch: 29 \tTraining Loss: 1.845965 \tValidation Loss: 0.461618\n",
      "Epoch: 30 \tTraining Loss: 1.845516 \tValidation Loss: 0.462134\n",
      "Saving at ./models/vsgd_cifar_1.0e-01\n"
     ]
    },
    {
     "data": {
      "application/vnd.jupyter.widget-view+json": {
       "model_id": "c354025f97fe4063b271a01ce2bdf7d8",
       "version_major": 2,
       "version_minor": 0
      },
      "text/plain": [
       "  0%|          | 0/4710 [00:00<?, ?it/s]"
      ]
     },
     "metadata": {},
     "output_type": "display_data"
    },
    {
     "name": "stdout",
     "output_type": "stream",
     "text": [
      "Epoch: 1 \tTraining Loss: 1.585729 \tValidation Loss: 0.315422\n",
      "Validation loss decreased (inf --> 0.315422).  Saving model ...\n",
      "Epoch: 2 \tTraining Loss: 1.089532 \tValidation Loss: 0.236859\n",
      "Validation loss decreased (0.315422 --> 0.236859).  Saving model ...\n",
      "Epoch: 3 \tTraining Loss: 0.877362 \tValidation Loss: 0.204209\n",
      "Validation loss decreased (0.236859 --> 0.204209).  Saving model ...\n",
      "Epoch: 4 \tTraining Loss: 0.736195 \tValidation Loss: 0.180715\n",
      "Validation loss decreased (0.204209 --> 0.180715).  Saving model ...\n",
      "Epoch: 5 \tTraining Loss: 0.635913 \tValidation Loss: 0.175331\n",
      "Validation loss decreased (0.180715 --> 0.175331).  Saving model ...\n",
      "Epoch: 6 \tTraining Loss: 0.546401 \tValidation Loss: 0.167630\n",
      "Validation loss decreased (0.175331 --> 0.167630).  Saving model ...\n",
      "Epoch: 7 \tTraining Loss: 0.472745 \tValidation Loss: 0.182620\n",
      "Epoch: 8 \tTraining Loss: 0.395851 \tValidation Loss: 0.188095\n",
      "Epoch: 9 \tTraining Loss: 0.329246 \tValidation Loss: 0.181939\n",
      "Epoch: 10 \tTraining Loss: 0.276187 \tValidation Loss: 0.193463\n",
      "Epoch: 11 \tTraining Loss: 0.224558 \tValidation Loss: 0.216651\n",
      "Epoch: 12 \tTraining Loss: 0.188610 \tValidation Loss: 0.244936\n",
      "Epoch: 13 \tTraining Loss: 0.156369 \tValidation Loss: 0.243568\n",
      "Epoch: 14 \tTraining Loss: 0.153396 \tValidation Loss: 0.256020\n",
      "Epoch: 15 \tTraining Loss: 0.130661 \tValidation Loss: 0.277545\n",
      "Epoch: 16 \tTraining Loss: 0.112188 \tValidation Loss: 0.303808\n",
      "Epoch: 17 \tTraining Loss: 0.114040 \tValidation Loss: 0.298892\n",
      "Epoch: 18 \tTraining Loss: 0.092410 \tValidation Loss: 0.323095\n",
      "Epoch: 19 \tTraining Loss: 0.087653 \tValidation Loss: 0.303650\n",
      "Epoch: 20 \tTraining Loss: 0.068373 \tValidation Loss: 0.344710\n",
      "Epoch: 21 \tTraining Loss: 0.078377 \tValidation Loss: 0.322908\n",
      "Epoch: 22 \tTraining Loss: 0.068491 \tValidation Loss: 0.349208\n",
      "Epoch: 23 \tTraining Loss: 0.070080 \tValidation Loss: 0.364247\n",
      "Epoch: 24 \tTraining Loss: 0.067482 \tValidation Loss: 0.345330\n",
      "Epoch: 25 \tTraining Loss: 0.054476 \tValidation Loss: 0.391586\n",
      "Epoch: 26 \tTraining Loss: 0.058040 \tValidation Loss: 0.386945\n",
      "Epoch: 27 \tTraining Loss: 0.054308 \tValidation Loss: 0.411179\n",
      "Epoch: 28 \tTraining Loss: 0.047467 \tValidation Loss: 0.412862\n",
      "Epoch: 29 \tTraining Loss: 0.049986 \tValidation Loss: 0.397347\n",
      "Epoch: 30 \tTraining Loss: 0.046363 \tValidation Loss: 0.406220\n",
      "Saving at ./models/vsgd_cifar_1.5e-03\n"
     ]
    },
    {
     "data": {
      "application/vnd.jupyter.widget-view+json": {
       "model_id": "571066e5cad64eccaeee67668c5cdebb",
       "version_major": 2,
       "version_minor": 0
      },
      "text/plain": [
       "  0%|          | 0/4710 [00:00<?, ?it/s]"
      ]
     },
     "metadata": {},
     "output_type": "display_data"
    },
    {
     "name": "stdout",
     "output_type": "stream",
     "text": [
      "Epoch: 1 \tTraining Loss: 1.659550 \tValidation Loss: 0.332060\n",
      "Validation loss decreased (inf --> 0.332060).  Saving model ...\n",
      "Epoch: 2 \tTraining Loss: 1.166449 \tValidation Loss: 0.269622\n",
      "Validation loss decreased (0.332060 --> 0.269622).  Saving model ...\n",
      "Epoch: 3 \tTraining Loss: 0.939248 \tValidation Loss: 0.216314\n",
      "Validation loss decreased (0.269622 --> 0.216314).  Saving model ...\n",
      "Epoch: 4 \tTraining Loss: 0.783826 \tValidation Loss: 0.193509\n",
      "Validation loss decreased (0.216314 --> 0.193509).  Saving model ...\n",
      "Epoch: 5 \tTraining Loss: 0.675047 \tValidation Loss: 0.176738\n",
      "Validation loss decreased (0.193509 --> 0.176738).  Saving model ...\n",
      "Epoch: 6 \tTraining Loss: 0.591216 \tValidation Loss: 0.179895\n",
      "Epoch: 7 \tTraining Loss: 0.520181 \tValidation Loss: 0.172896\n",
      "Validation loss decreased (0.176738 --> 0.172896).  Saving model ...\n",
      "Epoch: 8 \tTraining Loss: 0.452195 \tValidation Loss: 0.164906\n",
      "Validation loss decreased (0.172896 --> 0.164906).  Saving model ...\n",
      "Epoch: 9 \tTraining Loss: 0.390989 \tValidation Loss: 0.174380\n",
      "Epoch: 10 \tTraining Loss: 0.334065 \tValidation Loss: 0.181613\n",
      "Epoch: 11 \tTraining Loss: 0.287292 \tValidation Loss: 0.217222\n",
      "Epoch: 12 \tTraining Loss: 0.231904 \tValidation Loss: 0.231990\n",
      "Epoch: 13 \tTraining Loss: 0.211061 \tValidation Loss: 0.226049\n",
      "Epoch: 14 \tTraining Loss: 0.178730 \tValidation Loss: 0.237633\n",
      "Epoch: 15 \tTraining Loss: 0.168494 \tValidation Loss: 0.232360\n",
      "Epoch: 16 \tTraining Loss: 0.140857 \tValidation Loss: 0.253258\n",
      "Epoch: 17 \tTraining Loss: 0.119133 \tValidation Loss: 0.268642\n",
      "Epoch: 18 \tTraining Loss: 0.115570 \tValidation Loss: 0.292323\n",
      "Epoch: 19 \tTraining Loss: 0.104996 \tValidation Loss: 0.300459\n",
      "Epoch: 20 \tTraining Loss: 0.090990 \tValidation Loss: 0.302528\n",
      "Epoch: 21 \tTraining Loss: 0.082333 \tValidation Loss: 0.327606\n",
      "Epoch: 22 \tTraining Loss: 0.081643 \tValidation Loss: 0.325308\n",
      "Epoch: 23 \tTraining Loss: 0.078199 \tValidation Loss: 0.334036\n",
      "Epoch: 24 \tTraining Loss: 0.072840 \tValidation Loss: 0.333818\n",
      "Epoch: 25 \tTraining Loss: 0.058821 \tValidation Loss: 0.374315\n",
      "Epoch: 26 \tTraining Loss: 0.063087 \tValidation Loss: 0.361156\n",
      "Epoch: 27 \tTraining Loss: 0.059036 \tValidation Loss: 0.404207\n",
      "Epoch: 28 \tTraining Loss: 0.062023 \tValidation Loss: 0.373724\n",
      "Epoch: 29 \tTraining Loss: 0.059015 \tValidation Loss: 0.362879\n",
      "Epoch: 30 \tTraining Loss: 0.041287 \tValidation Loss: 0.387980\n",
      "Saving at ./models/vsgd_cifar_1.0e-02\n"
     ]
    },
    {
     "data": {
      "application/vnd.jupyter.widget-view+json": {
       "model_id": "773739b1e6b44ede9bff9fd1b7d8c259",
       "version_major": 2,
       "version_minor": 0
      },
      "text/plain": [
       "  0%|          | 0/4710 [00:00<?, ?it/s]"
      ]
     },
     "metadata": {},
     "output_type": "display_data"
    },
    {
     "name": "stdout",
     "output_type": "stream",
     "text": [
      "Epoch: 1 \tTraining Loss: 1.575988 \tValidation Loss: 0.322471\n",
      "Validation loss decreased (inf --> 0.322471).  Saving model ...\n",
      "Epoch: 2 \tTraining Loss: 1.107993 \tValidation Loss: 0.249113\n",
      "Validation loss decreased (0.322471 --> 0.249113).  Saving model ...\n",
      "Epoch: 3 \tTraining Loss: 0.890450 \tValidation Loss: 0.215148\n",
      "Validation loss decreased (0.249113 --> 0.215148).  Saving model ...\n",
      "Epoch: 4 \tTraining Loss: 0.750028 \tValidation Loss: 0.188610\n",
      "Validation loss decreased (0.215148 --> 0.188610).  Saving model ...\n",
      "Epoch: 5 \tTraining Loss: 0.639543 \tValidation Loss: 0.170396\n",
      "Validation loss decreased (0.188610 --> 0.170396).  Saving model ...\n",
      "Epoch: 6 \tTraining Loss: 0.550936 \tValidation Loss: 0.169858\n",
      "Validation loss decreased (0.170396 --> 0.169858).  Saving model ...\n",
      "Epoch: 7 \tTraining Loss: 0.469260 \tValidation Loss: 0.181374\n",
      "Epoch: 8 \tTraining Loss: 0.396215 \tValidation Loss: 0.171261\n",
      "Epoch: 9 \tTraining Loss: 0.332667 \tValidation Loss: 0.182931\n",
      "Epoch: 10 \tTraining Loss: 0.268856 \tValidation Loss: 0.204616\n",
      "Epoch: 11 \tTraining Loss: 0.233057 \tValidation Loss: 0.217727\n",
      "Epoch: 12 \tTraining Loss: 0.197006 \tValidation Loss: 0.247192\n",
      "Epoch: 13 \tTraining Loss: 0.167704 \tValidation Loss: 0.250657\n",
      "Epoch: 14 \tTraining Loss: 0.146257 \tValidation Loss: 0.250330\n",
      "Epoch: 15 \tTraining Loss: 0.125128 \tValidation Loss: 0.277616\n",
      "Epoch: 16 \tTraining Loss: 0.116498 \tValidation Loss: 0.301218\n",
      "Epoch: 17 \tTraining Loss: 0.100655 \tValidation Loss: 0.293432\n",
      "Epoch: 18 \tTraining Loss: 0.094995 \tValidation Loss: 0.318479\n",
      "Epoch: 19 \tTraining Loss: 0.095660 \tValidation Loss: 0.325789\n",
      "Epoch: 20 \tTraining Loss: 0.083834 \tValidation Loss: 0.353357\n",
      "Epoch: 21 \tTraining Loss: 0.083788 \tValidation Loss: 0.332642\n",
      "Epoch: 22 \tTraining Loss: 0.064975 \tValidation Loss: 0.360117\n",
      "Epoch: 23 \tTraining Loss: 0.069269 \tValidation Loss: 0.375051\n",
      "Epoch: 24 \tTraining Loss: 0.062104 \tValidation Loss: 0.370775\n",
      "Epoch: 25 \tTraining Loss: 0.050226 \tValidation Loss: 0.367874\n",
      "Epoch: 26 \tTraining Loss: 0.046550 \tValidation Loss: 0.404385\n",
      "Epoch: 27 \tTraining Loss: 0.057518 \tValidation Loss: 0.368015\n",
      "Epoch: 28 \tTraining Loss: 0.040866 \tValidation Loss: 0.426616\n",
      "Epoch: 29 \tTraining Loss: 0.050377 \tValidation Loss: 0.397259\n",
      "Epoch: 30 \tTraining Loss: 0.048229 \tValidation Loss: 0.419876\n",
      "Saving at ./models/vsgd_cifar_2.0e-03\n"
     ]
    },
    {
     "data": {
      "application/vnd.jupyter.widget-view+json": {
       "model_id": "9b5d78a02d1e480b9de06f0cee53b5cb",
       "version_major": 2,
       "version_minor": 0
      },
      "text/plain": [
       "  0%|          | 0/4710 [00:00<?, ?it/s]"
      ]
     },
     "metadata": {},
     "output_type": "display_data"
    },
    {
     "name": "stdout",
     "output_type": "stream",
     "text": [
      "Epoch: 1 \tTraining Loss: 1.577900 \tValidation Loss: 0.318317\n",
      "Validation loss decreased (inf --> 0.318317).  Saving model ...\n",
      "Epoch: 2 \tTraining Loss: 1.109237 \tValidation Loss: 0.253839\n",
      "Validation loss decreased (0.318317 --> 0.253839).  Saving model ...\n",
      "Epoch: 3 \tTraining Loss: 0.909128 \tValidation Loss: 0.214508\n",
      "Validation loss decreased (0.253839 --> 0.214508).  Saving model ...\n",
      "Epoch: 4 \tTraining Loss: 0.756833 \tValidation Loss: 0.199678\n",
      "Validation loss decreased (0.214508 --> 0.199678).  Saving model ...\n",
      "Epoch: 5 \tTraining Loss: 0.656756 \tValidation Loss: 0.176376\n",
      "Validation loss decreased (0.199678 --> 0.176376).  Saving model ...\n",
      "Epoch: 6 \tTraining Loss: 0.564184 \tValidation Loss: 0.169736\n",
      "Validation loss decreased (0.176376 --> 0.169736).  Saving model ...\n",
      "Epoch: 7 \tTraining Loss: 0.482353 \tValidation Loss: 0.171148\n",
      "Epoch: 8 \tTraining Loss: 0.411077 \tValidation Loss: 0.178275\n",
      "Epoch: 9 \tTraining Loss: 0.352878 \tValidation Loss: 0.190158\n",
      "Epoch: 10 \tTraining Loss: 0.285168 \tValidation Loss: 0.202564\n",
      "Epoch: 11 \tTraining Loss: 0.240815 \tValidation Loss: 0.219259\n",
      "Epoch: 12 \tTraining Loss: 0.210005 \tValidation Loss: 0.224861\n",
      "Epoch: 13 \tTraining Loss: 0.175406 \tValidation Loss: 0.246455\n",
      "Epoch: 14 \tTraining Loss: 0.158359 \tValidation Loss: 0.260944\n",
      "Epoch: 15 \tTraining Loss: 0.142684 \tValidation Loss: 0.256854\n",
      "Epoch: 16 \tTraining Loss: 0.123092 \tValidation Loss: 0.276391\n",
      "Epoch: 17 \tTraining Loss: 0.105757 \tValidation Loss: 0.318618\n",
      "Epoch: 18 \tTraining Loss: 0.104965 \tValidation Loss: 0.315094\n",
      "Epoch: 19 \tTraining Loss: 0.085610 \tValidation Loss: 0.326662\n",
      "Epoch: 20 \tTraining Loss: 0.087244 \tValidation Loss: 0.344729\n",
      "Epoch: 21 \tTraining Loss: 0.073717 \tValidation Loss: 0.328415\n",
      "Epoch: 22 \tTraining Loss: 0.066761 \tValidation Loss: 0.393692\n",
      "Epoch: 23 \tTraining Loss: 0.079455 \tValidation Loss: 0.344850\n",
      "Epoch: 24 \tTraining Loss: 0.058874 \tValidation Loss: 0.384749\n",
      "Epoch: 25 \tTraining Loss: 0.062190 \tValidation Loss: 0.379374\n",
      "Epoch: 26 \tTraining Loss: 0.064821 \tValidation Loss: 0.378157\n",
      "Epoch: 27 \tTraining Loss: 0.056267 \tValidation Loss: 0.382561\n",
      "Epoch: 28 \tTraining Loss: 0.052321 \tValidation Loss: 0.391289\n",
      "Epoch: 29 \tTraining Loss: 0.043632 \tValidation Loss: 0.396195\n",
      "Epoch: 30 \tTraining Loss: 0.046597 \tValidation Loss: 0.421687\n",
      "Saving at ./models/vsgd_cifar_5.0e-03\n"
     ]
    }
   ],
   "source": [
    "for var in variabilities:\n",
    "    print(f\"Training vsgd with var {var}\")\n",
    "    vsgd_model = nets.CIFARModel()\n",
    "    vsgd_model.to(device)\n",
    "    # specificy optimizer\n",
    "    vsgd_optim = VSGD(vsgd_model.parameters(), variability=var, lr=learning_rate, momentum=momentum)\n",
    "    v_train_losslist, v_valid_losslist = train_with_validation(vsgd_model, vsgd_optim, train_loader, valid_loader, device, classes)\n",
    "    save_dir = f\"./models/vsgd_cifar_{var:.1e}.pt\"\n",
    "    print(f\"Saving at {save_dir}\")\n",
    "    torch.save(vsgd_model.state_dict(), save_dir)"
   ]
  },
  {
   "cell_type": "code",
   "execution_count": 20,
   "id": "d7ccd78b",
   "metadata": {},
   "outputs": [
    {
     "data": {
      "application/vnd.jupyter.widget-view+json": {
       "model_id": "fb1d3ff7523e4818b1928529416e4433",
       "version_major": 2,
       "version_minor": 0
      },
      "text/plain": [
       "  0%|          | 0/157 [00:00<?, ?it/s]"
      ]
     },
     "metadata": {},
     "output_type": "display_data"
    },
    {
     "name": "stdout",
     "output_type": "stream",
     "text": [
      "\tAccuracy for class: airplane is 65.2 %\n",
      "\tAccuracy for class: automobile is 80.5 %\n",
      "\tAccuracy for class: bird is 52.8 %\n",
      "\tAccuracy for class: cat is 41.1 %\n",
      "\tAccuracy for class: deer is 64.9 %\n",
      "\tAccuracy for class: dog is 65.2 %\n",
      "\tAccuracy for class: frog is 84.0 %\n",
      "\tAccuracy for class: horse is 80.7 %\n",
      "\tAccuracy for class: ship is 89.3 %\n",
      "\tAccuracy for class: truck is 82.1 %\n",
      "Robust acc: 70.58\n"
     ]
    }
   ],
   "source": [
    "vsgd_model.load_state_dict(torch.load(f\"./models/vsgd_cifar_5.0e-03.pt\"))\n",
    "acc = test(vsgd_model, test_loader, device, classes, show_class_accs=True)\n",
    "print(f\"Robust acc: {acc:.2f}\")"
   ]
  },
  {
   "cell_type": "markdown",
   "id": "1a038c29",
   "metadata": {},
   "source": [
    "# Plot test loss"
   ]
  },
  {
   "cell_type": "code",
   "execution_count": 21,
   "id": "d2d4cdef",
   "metadata": {},
   "outputs": [
    {
     "data": {
      "image/png": "[encoded data removed]",
      "text/plain": [
       "<Figure size 432x288 with 1 Axes>"
      ]
     },
     "metadata": {
      "needs_background": "light"
     },
     "output_type": "display_data"
    },
    {
     "name": "stdout",
     "output_type": "stream",
     "text": [
      "1e-03\n"
     ]
    }
   ],
   "source": [
    "epoch_list = list(range(1, n_epochs+1))\n",
    "#plt.plot(epoch_list, valid_losslist, label=\"sgd\")\n",
    "plt.plot(epoch_list, v_valid_losslist, label=\"vsgd 0.001\")\n",
    "plt.ylabel(\"Loss\")\n",
    "plt.xlabel(\"Epoch\")\n",
    "plt.legend(loc='upper left')\n",
    "plt.title(\"Test loss on validation set\")\n",
    "plt.savefig('./plots/validation_loss_cifar.png', dpi=300, bbox_inches='tight')\n",
    "plt.show()\n",
    "scientific_notation=f\"{0.001:.0e}\"\n",
    "print(scientific_notation)"
   ]
  },
  {
   "cell_type": "code",
   "execution_count": null,
   "id": "3aeb9e6e",
   "metadata": {},
   "outputs": [],
   "source": []
  }
 ],
 "metadata": {
  "kernelspec": {
   "display_name": "Python 3 (ipykernel)",
   "language": "python",
   "name": "python3"
  },
  "language_info": {
   "codemirror_mode": {
    "name": "ipython",
    "version": 3
   },
   "file_extension": ".py",
   "mimetype": "text/x-python",
   "name": "python",
   "nbconvert_exporter": "python",
   "pygments_lexer": "ipython3",
   "version": "3.8.10"
  }
 },
 "nbformat": 4,
 "nbformat_minor": 5
}
