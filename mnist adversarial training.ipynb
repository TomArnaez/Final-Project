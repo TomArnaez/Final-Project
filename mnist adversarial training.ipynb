{
 "cells": [
  {
   "cell_type": "markdown",
   "id": "d1fea1d8",
   "metadata": {},
   "source": [
    "# Adversarial Training"
   ]
  },
  {
   "cell_type": "code",
   "execution_count": 2,
   "id": "0bc2fe64",
   "metadata": {},
   "outputs": [],
   "source": [
    "import numpy as np\n",
    "import torch.nn as nn\n",
    "from torch import optim\n",
    "import torchvision.utils\n",
    "from torchvision import models, datasets\n",
    "import torchvision.transforms as transforms\n",
    "from torchattacks import *\n",
    "import torchattacks\n",
    "from torchattacks import PGD, FGSM\n",
    "from py.train import train_on_attack\n",
    "import torch\n",
    "import matplotlib.pyplot as plt\n",
    "from py.train import test\n",
    "from py.utils import get_default_device, plot_training_loss\n",
    "from algo.variable_optim import VSGD\n",
    "import pandas as pd\n",
    "from py import nets\n",
    "\n",
    "%matplotlib inline\n",
    "\n",
    "n_epochs = 6\n",
    "batch_size = 128\n",
    "learning_rate = 0.01\n",
    "momentum=0.9"
   ]
  },
  {
   "cell_type": "markdown",
   "id": "340f2fa4",
   "metadata": {},
   "source": [
    "# Load Data"
   ]
  },
  {
   "cell_type": "code",
   "execution_count": 3,
   "id": "abdbeb63",
   "metadata": {},
   "outputs": [],
   "source": [
    "transform = transforms.Compose([transforms.ToTensor(),\n",
    "            ])\n",
    "\n",
    "\n",
    "train_set = datasets.MNIST('./datasets', train=True, download=True, transform=transform)\n",
    "train_loader = torch.utils.data.DataLoader(train_set, batch_size=batch_size, shuffle=True)\n",
    "\n",
    "test_set = datasets.MNIST('./datasets', train=False, download=True, transform=transform)\n",
    "test_loader = torch.utils.data.DataLoader(test_set, batch_size=batch_size, shuffle=True)\n",
    "\n",
    "classes = [0, 1, 2, 3, 4, 5, 6, 7, 8, 9]"
   ]
  },
  {
   "cell_type": "markdown",
   "id": "c678f1fa",
   "metadata": {},
   "source": [
    "# Set Up Model"
   ]
  },
  {
   "cell_type": "code",
   "execution_count": 4,
   "id": "f8511afb",
   "metadata": {},
   "outputs": [],
   "source": [
    "from py.utils import get_default_device\n",
    "from py import nets\n",
    "\n",
    "device = get_default_device()\n",
    "\n",
    "base_model = nets.Conv1()\n",
    "base_model.to(device)\n",
    "loss = nn.CrossEntropyLoss()\n",
    "optimizer = optim.SGD(base_model.parameters(), lr=learning_rate, momentum=momentum)\n",
    "\n",
    "# Save the default weights\n",
    "#torch.save(base_model.state_dict(), \"./models/default_base_model.pt\")"
   ]
  },
  {
   "cell_type": "markdown",
   "id": "f49cb089",
   "metadata": {},
   "source": [
    "# Select an attack for base model"
   ]
  },
  {
   "cell_type": "code",
   "execution_count": 5,
   "id": "d8d70d39",
   "metadata": {},
   "outputs": [],
   "source": [
    "#atk = PGD(base_model, eps=0.3, alpha=0.1, steps=7)\n",
    "atk = FGSM(base_model, eps=8 / 255)\n",
    "#atk = CW(base_model, c=5, lr=0.001)"
   ]
  },
  {
   "cell_type": "markdown",
   "id": "cd5dabef",
   "metadata": {},
   "source": [
    "# Train model on adversarial examples from the MNIST"
   ]
  },
  {
   "cell_type": "code",
   "execution_count": 6,
   "id": "21fb8933",
   "metadata": {},
   "outputs": [
    {
     "name": "stdout",
     "output_type": "stream",
     "text": [
      "Training on adversarial examples\n"
     ]
    },
    {
     "data": {
      "application/vnd.jupyter.widget-view+json": {
       "model_id": "dbf00f5c3a4847699919f0ab152db4fe",
       "version_major": 2,
       "version_minor": 0
      },
      "text/plain": [
       "  0%|          | 0/2345 [00:00<?, ?it/s]"
      ]
     },
     "metadata": {},
     "output_type": "display_data"
    }
   ],
   "source": [
    "print(\"Training on adversarial examples\")\n",
    "train_counter, train_losses = train_on_attack(base_model, loss, optimizer, train_loader, device, atk, n_epochs=5)"
   ]
  },
  {
   "cell_type": "markdown",
   "id": "b92e4592",
   "metadata": {},
   "source": [
    "# Test base model on clean MNIST"
   ]
  },
  {
   "cell_type": "code",
   "execution_count": 7,
   "id": "3eeb4d41",
   "metadata": {},
   "outputs": [
    {
     "data": {
      "application/vnd.jupyter.widget-view+json": {
       "model_id": "7f901b2b899b467d950621ab5d9f5fcb",
       "version_major": 2,
       "version_minor": 0
      },
      "text/plain": [
       "  0%|          | 0/79 [00:00<?, ?it/s]"
      ]
     },
     "metadata": {},
     "output_type": "display_data"
    },
    {
     "name": "stdout",
     "output_type": "stream",
     "text": [
      "Standard accuracy: 99.07\n"
     ]
    }
   ],
   "source": [
    "standard_acc = test(base_model, test_loader, device, classes)\n",
    "print(f\"Standard accuracy: {standard_acc}\")"
   ]
  },
  {
   "cell_type": "markdown",
   "id": "28570897",
   "metadata": {},
   "source": [
    "# Set up attacks"
   ]
  },
  {
   "cell_type": "code",
   "execution_count": 8,
   "id": "edde84a8",
   "metadata": {},
   "outputs": [],
   "source": [
    "from py.attacks import get_attacks\n",
    "atks = get_attacks(base_model)"
   ]
  },
  {
   "cell_type": "markdown",
   "id": "a76217ec",
   "metadata": {},
   "source": [
    "# Adversarial training and testing on base model"
   ]
  },
  {
   "cell_type": "code",
   "execution_count": null,
   "id": "0b505a84",
   "metadata": {},
   "outputs": [
    {
     "name": "stdout",
     "output_type": "stream",
     "text": [
      "Evaluating on FGSM\n",
      "Testing on adversarial images produced by attack FGSM\n"
     ]
    },
    {
     "data": {
      "application/vnd.jupyter.widget-view+json": {
       "model_id": "38a3901f73b14739b035e27473678113",
       "version_major": 2,
       "version_minor": 0
      },
      "text/plain": [
       "  0%|          | 0/79 [00:00<?, ?it/s]"
      ]
     },
     "metadata": {},
     "output_type": "display_data"
    },
    {
     "name": "stdout",
     "output_type": "stream",
     "text": [
      "Robust accuracy for FGSM: 26.68\n",
      "\n",
      "\n",
      "Evaluating on PGD\n",
      "Testing on adversarial images produced by attack PGD\n"
     ]
    },
    {
     "data": {
      "application/vnd.jupyter.widget-view+json": {
       "model_id": "b4fc7b2f0d60465dbe9cdca447f51796",
       "version_major": 2,
       "version_minor": 0
      },
      "text/plain": [
       "  0%|          | 0/79 [00:00<?, ?it/s]"
      ]
     },
     "metadata": {},
     "output_type": "display_data"
    },
    {
     "name": "stdout",
     "output_type": "stream",
     "text": [
      "Robust accuracy for PGD: 0.68\n",
      "\n",
      "\n",
      "Evaluating on CW\n",
      "Testing on adversarial images produced by attack CW\n"
     ]
    },
    {
     "data": {
      "application/vnd.jupyter.widget-view+json": {
       "model_id": "b09702f2e8fa461881f48d9a391445e8",
       "version_major": 2,
       "version_minor": 0
      },
      "text/plain": [
       "  0%|          | 0/79 [00:00<?, ?it/s]"
      ]
     },
     "metadata": {},
     "output_type": "display_data"
    }
   ],
   "source": [
    "### NOTE: Long training time ###\n",
    "\n",
    "from py.train import train_on_attack\n",
    "from py.train import test_on_attack\n",
    "\n",
    "data_points = []\n",
    "robust_acc = dict()\n",
    "\n",
    "for atk in atks:\n",
    "    atk_name = atk.__class__.__name__\n",
    "    print(f\"Evaluating on {atk_name}\")\n",
    "\n",
    "    #data_points.append(data)\n",
    "    \n",
    "    # Test on adversarial examples\n",
    "    print(f\"Testing on adversarial images produced by attack {atk_name}\")\n",
    "    acc = test_on_attack(base_model, test_loader, device, classes, atk)\n",
    "    print(\"\\n\")\n",
    "    robust_acc[atk_name] = acc"
   ]
  },
  {
   "cell_type": "markdown",
   "id": "5fee2771",
   "metadata": {},
   "source": [
    "# Plot training data"
   ]
  },
  {
   "cell_type": "code",
   "execution_count": null,
   "id": "1f9deef3",
   "metadata": {},
   "outputs": [],
   "source": [
    "%matplotlib inline\n",
    "print(robust_acc)\n",
    "\n",
    "#pd.DataFrame(robust_acc).plot(kind='bar', color=['r', 'b', 'g'])\n",
    "plt.bar(*zip(*robust_acc.items()))\n",
    "plt.ylabel('CE')\n",
    "plt.xlabel('corruption')\n",
    "plt.title(f\"base model accuracy after adv. training with {atk.__class__.__name__}\")\n",
    "plt.savefig('./plots/mnist_corruption_errors.png', dpi=300, bbox_inches='tight')\n",
    "plt.show()"
   ]
  },
  {
   "cell_type": "markdown",
   "id": "033fc753",
   "metadata": {},
   "source": [
    "# Set up VSGD Model"
   ]
  },
  {
   "cell_type": "code",
   "execution_count": 16,
   "id": "4facd467",
   "metadata": {},
   "outputs": [
    {
     "name": "stdout",
     "output_type": "stream",
     "text": [
      "cuda\n"
     ]
    }
   ],
   "source": [
    "variability = 0.01\n",
    "\n",
    "from py.utils import get_default_device\n",
    "from algo.variable_optim import VSGD\n",
    "\n",
    "device = get_default_device()\n",
    "\n",
    "v_model = nets.Conv1()\n",
    "v_model.to(device)\n",
    "criterion = nn.CrossEntropyLoss()\n",
    "v_optim = VSGD(v_model.parameters(), lr=learning_rate, momentum=momentum)\n",
    "\n",
    "# Save the default weights\n",
    "#torch.save(base_model.state_dict(), \"./models/default_v_model.pt\")\n",
    "#atk = PGD(base_model, eps=0.3, alpha=0.1, steps=7)\n",
    "#atk = FGSM(v_model, eps=8 / 255)\n",
    "atk = PGD(v_model, eps=0.3, alpha=0.1, steps=7)\n",
    "#atk = CW(v_model)\n",
    "print(device)"
   ]
  },
  {
   "cell_type": "markdown",
   "id": "ca5438f7",
   "metadata": {},
   "source": [
    "# Train VSGD Model on adversarial examples"
   ]
  },
  {
   "cell_type": "code",
   "execution_count": 17,
   "id": "0f9f2e30",
   "metadata": {},
   "outputs": [
    {
     "data": {
      "application/vnd.jupyter.widget-view+json": {
       "model_id": "7597c97702a64dd88fbf578d1cc7e141",
       "version_major": 2,
       "version_minor": 0
      },
      "text/plain": [
       "  0%|          | 0/2345 [00:00<?, ?it/s]"
      ]
     },
     "metadata": {},
     "output_type": "display_data"
    }
   ],
   "source": [
    "train_counter, train_losses = train_on_attack(v_model, criterion, v_optim, train_loader, device, atk, n_epochs=5)"
   ]
  },
  {
   "cell_type": "markdown",
   "id": "47ceb35b",
   "metadata": {},
   "source": [
    "# Test on clean MNIST"
   ]
  },
  {
   "cell_type": "code",
   "execution_count": 42,
   "id": "5febe867",
   "metadata": {},
   "outputs": [
    {
     "data": {
      "application/vnd.jupyter.widget-view+json": {
       "model_id": "6c21faaaeae241a4bfe5b77db90c4b5e",
       "version_major": 2,
       "version_minor": 0
      },
      "text/plain": [
       "  0%|          | 0/79 [00:00<?, ?it/s]"
      ]
     },
     "metadata": {},
     "output_type": "display_data"
    },
    {
     "name": "stdout",
     "output_type": "stream",
     "text": [
      "Standard accuracy: 79.83\n"
     ]
    }
   ],
   "source": [
    "standard_acc = test(v_model, test_loader, device, classes)\n",
    "print(f\"Standard accuracy: {standard_acc}\")"
   ]
  },
  {
   "cell_type": "markdown",
   "id": "7daaacc4",
   "metadata": {},
   "source": [
    "# Adversarial Testing on VGSD Model"
   ]
  },
  {
   "cell_type": "code",
   "execution_count": 43,
   "id": "87f4ade8",
   "metadata": {},
   "outputs": [
    {
     "name": "stdout",
     "output_type": "stream",
     "text": [
      "Evaluating VSGD model with adversarial training\n",
      "Evaluating on FGSM\n",
      "Testing with attack FGSM\n"
     ]
    },
    {
     "data": {
      "application/vnd.jupyter.widget-view+json": {
       "model_id": "58f9d280e34a4e97879bcdcb023047a2",
       "version_major": 2,
       "version_minor": 0
      },
      "text/plain": [
       "  0%|          | 0/79 [00:00<?, ?it/s]"
      ]
     },
     "metadata": {},
     "output_type": "display_data"
    },
    {
     "name": "stdout",
     "output_type": "stream",
     "text": [
      "Robust accuracy for FGSM: 99.15\n",
      "\n",
      "\n",
      "Evaluating on PGD\n",
      "Testing with attack PGD\n"
     ]
    },
    {
     "data": {
      "application/vnd.jupyter.widget-view+json": {
       "model_id": "4c5f993d69a240f18e3f1ea8415b1c87",
       "version_major": 2,
       "version_minor": 0
      },
      "text/plain": [
       "  0%|          | 0/79 [00:00<?, ?it/s]"
      ]
     },
     "metadata": {},
     "output_type": "display_data"
    },
    {
     "name": "stdout",
     "output_type": "stream",
     "text": [
      "Robust accuracy for PGD: 99.38\n",
      "\n",
      "\n",
      "Evaluating on CW\n",
      "Testing with attack CW\n"
     ]
    },
    {
     "data": {
      "application/vnd.jupyter.widget-view+json": {
       "model_id": "7b342638129440dab1e1be5aa1a9d0a9",
       "version_major": 2,
       "version_minor": 0
      },
      "text/plain": [
       "  0%|          | 0/79 [00:00<?, ?it/s]"
      ]
     },
     "metadata": {},
     "output_type": "display_data"
    },
    {
     "name": "stdout",
     "output_type": "stream",
     "text": [
      "Robust accuracy for CW: 79.29\n",
      "\n",
      "\n"
     ]
    }
   ],
   "source": [
    "### NOTE: Long training time ###\n",
    "\n",
    "from py.train import train_on_attack, test_on_attack\n",
    "\n",
    "print(\"Evaluating VSGD model with adversarial training\")\n",
    "\n",
    "robust_acc = dict()\n",
    "\n",
    "for atk in atks:\n",
    "    atk_name = atk.__class__.__name__\n",
    "    print(f\"Evaluating on {atk_name}\")\n",
    "\n",
    "    #data_points.append(data)\n",
    "    \n",
    "    # Test on adversarial examples\n",
    "    print(f\"Testing with attack {atk_name}\")\n",
    "    acc = test_on_attack(v_model, test_loader, device, classes, atk)\n",
    "    print(\"\\n\")\n",
    "    robust_acc[atk_name] = acc"
   ]
  }
 ],
 "metadata": {
  "kernelspec": {
   "display_name": "Python 3 (ipykernel)",
   "language": "python",
   "name": "python3"
  },
  "language_info": {
   "codemirror_mode": {
    "name": "ipython",
    "version": 3
   },
   "file_extension": ".py",
   "mimetype": "text/x-python",
   "name": "python",
   "nbconvert_exporter": "python",
   "pygments_lexer": "ipython3",
   "version": "3.8.10"
  }
 },
 "nbformat": 4,
 "nbformat_minor": 5
}
