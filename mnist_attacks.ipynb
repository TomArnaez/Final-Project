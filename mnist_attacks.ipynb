{
 "cells": [
  {
   "cell_type": "markdown",
   "id": "a8d37ab2",
   "metadata": {},
   "source": [
    "# Adversarial Attacks on MNIST"
   ]
  },
  {
   "cell_type": "markdown",
   "id": "4c68a05d",
   "metadata": {},
   "source": [
    "## 1. Import libraries"
   ]
  },
  {
   "cell_type": "code",
   "execution_count": 1,
   "id": "2c16e5f2",
   "metadata": {},
   "outputs": [],
   "source": [
    "### TESTING ON MNIST ###\n",
    "\n",
    "from py import nets\n",
    "import torch\n",
    "import time\n",
    "from py.utils import get_default_device, imshow\n",
    "from py.train import train_mnist, test, test_on_attack\n",
    "from torchattacks import *\n",
    "from py.attacks import get_attacks\n",
    "from torch import optim\n",
    "from torch import nn\n",
    "import torchvision\n",
    "from torchvision import datasets, transforms\n",
    "from torch.utils.data import Dataset, DataLoader\n",
    "import matplotlib.pyplot as plt\n",
    "import numpy as np\n",
    "from algo.variable_optim import VSGD \n",
    "%matplotlib inline"
   ]
  },
  {
   "cell_type": "markdown",
   "id": "adf9e2e2",
   "metadata": {},
   "source": [
    "## 2. Load the data"
   ]
  },
  {
   "cell_type": "code",
   "execution_count": 2,
   "id": "7062fa8b",
   "metadata": {},
   "outputs": [],
   "source": [
    "transform = transforms.Compose([transforms.ToTensor(),\n",
    "            ])\n",
    "\n",
    "n_epochs = 5\n",
    "batch_size = 128\n",
    "learning_rate = 0.01\n",
    "momentum=0.9\n",
    "\n",
    "train_set = datasets.MNIST('./datasets', train=True, download=True, transform=transform)\n",
    "train_loader = torch.utils.data.DataLoader(train_set, batch_size=batch_size, shuffle=True, num_workers=4)\n",
    "\n",
    "test_set = datasets.MNIST('./datasets', train=False, download=True, transform=transform)\n",
    "test_loader = torch.utils.data.DataLoader(test_set, batch_size=batch_size, shuffle=True, num_workers=4)\n",
    "\n",
    "classes = [0, 1, 2, 3, 4, 5, 6, 7, 8, 9]"
   ]
  },
  {
   "cell_type": "code",
   "execution_count": 3,
   "id": "7134a70b",
   "metadata": {},
   "outputs": [
    {
     "data": {
      "image/png": "[encoded data removed]",
      "text/plain": [
       "<Figure size 360x1080 with 1 Axes>"
      ]
     },
     "metadata": {
      "needs_background": "light"
     },
     "output_type": "display_data"
    },
    {
     "name": "stdout",
     "output_type": "stream",
     "text": [
      "cuda\n"
     ]
    }
   ],
   "source": [
    "images, labels = train_set[0]\n",
    "imshow(torchvision.utils.make_grid(images, normalize=True), labels)\n",
    "device = get_default_device()\n",
    "print(device)"
   ]
  },
  {
   "cell_type": "markdown",
   "id": "cd6e4f19",
   "metadata": {},
   "source": [
    "## 3. Train base model"
   ]
  },
  {
   "cell_type": "code",
   "execution_count": null,
   "id": "88d0f488",
   "metadata": {},
   "outputs": [],
   "source": [
    "device = get_default_device()\n",
    "base_model = nets.Conv1()\n",
    "base_model.to(device)\n",
    "criterion = nn.CrossEntropyLoss() \n",
    "optimizer = optim.SGD(base_model.parameters(), lr=learning_rate, momentum=momentum)\n",
    "\n",
    "train_losses, train_counter = train_mnist(base_model, optimizer, criterion, \n",
    "                                          train_loader, device, batch_size=batch_size, n_epochs=n_epochs,\n",
    "                                          disp=False)\n",
    "\n",
    "acc = test(base_model, test_loader, device, classes)\n",
    "print(f\"Standard accuracy: {acc}\")"
   ]
  },
  {
   "cell_type": "markdown",
   "id": "21f765ff",
   "metadata": {},
   "source": [
    "## 4. Run adversarial attacks on base model"
   ]
  },
  {
   "cell_type": "markdown",
   "id": "408bca40",
   "metadata": {},
   "source": [
    "### 4.1 Viewing adversarial examples on a single image"
   ]
  },
  {
   "cell_type": "code",
   "execution_count": 5,
   "id": "9b36ff61",
   "metadata": {},
   "outputs": [
    {
     "name": "stdout",
     "output_type": "stream",
     "text": [
      "Adversarial Image & Predicted Label\n",
      "------------------------------------------------------------------------------------------\n",
      "FGSM(model_name=Conv1, device=cuda:0, eps=0.3, attack_mode=default, return_type=float)\n"
     ]
    },
    {
     "data": {
      "image/png": "[encoded data removed]",
      "text/plain": [
       "<Figure size 360x1080 with 1 Axes>"
      ]
     },
     "metadata": {
      "needs_background": "light"
     },
     "output_type": "display_data"
    },
    {
     "name": "stdout",
     "output_type": "stream",
     "text": [
      "------------------------------------------------------------------------------------------\n",
      "PGD(model_name=Conv1, device=cuda:0, eps=0.3, alpha=0.1, steps=7, random_start=True, attack_mode=default, return_type=float)\n"
     ]
    },
    {
     "data": {
      "image/png": "[encoded data removed]",
      "text/plain": [
       "<Figure size 360x1080 with 1 Axes>"
      ]
     },
     "metadata": {
      "needs_background": "light"
     },
     "output_type": "display_data"
    },
    {
     "name": "stdout",
     "output_type": "stream",
     "text": [
      "------------------------------------------------------------------------------------------\n",
      "CW(model_name=Conv1, device=cuda:0, c=5, kappa=0, steps=1000, lr=0.001, attack_mode=default, return_type=float)\n"
     ]
    },
    {
     "data": {
      "image/png": "[encoded data removed]",
      "text/plain": [
       "<Figure size 360x1080 with 1 Axes>"
      ]
     },
     "metadata": {
      "needs_background": "light"
     },
     "output_type": "display_data"
    }
   ],
   "source": [
    "atks = get_attacks(base_model)\n",
    "\n",
    "print(\"Adversarial Image & Predicted Label\")\n",
    "\n",
    "data_loader = torch.utils.data.DataLoader(train_set, batch_size=1, shuffle=False)\n",
    "\n",
    "for images, labels in data_loader:\n",
    "    for atk in atks :  \n",
    "        print(\"-\"*90)\n",
    "        print(atk)\n",
    "\n",
    "        correct = 0\n",
    "        total = 0\n",
    "\n",
    "        adv_images = atk(images, labels).cuda()\n",
    "        labels = labels.to(device)\n",
    "        outputs = base_model(adv_images)\n",
    "\n",
    "        _, pre = torch.max(outputs.data, 1)\n",
    "\n",
    "        total += 1\n",
    "        correct += (pre == labels).sum()\n",
    "        label = pre.cpu().numpy()[0]\n",
    "        imshow(torchvision.utils.make_grid(adv_images.cpu().data, normalize=True), label)\n",
    "\n",
    "    break\n",
    "\n",
    "    print('Robust accuracy: %.2f %%' % (100 * float(correct) / total))"
   ]
  },
  {
   "cell_type": "markdown",
   "id": "38cc4d27",
   "metadata": {},
   "source": [
    "# Produce plot of adversarial images and labels"
   ]
  },
  {
   "cell_type": "code",
   "execution_count": 6,
   "id": "72102a06",
   "metadata": {},
   "outputs": [
    {
     "data": {
      "image/png": "[encoded data removed]",
      "text/plain": [
       "<Figure size 432x288 with 4 Axes>"
      ]
     },
     "metadata": {
      "needs_background": "light"
     },
     "output_type": "display_data"
    }
   ],
   "source": [
    "imgs = {}\n",
    "\n",
    "for images, labels in data_loader:\n",
    "    imgs[\"original\"] = images[0].cpu()\n",
    "    for atk in atks:\n",
    "        adv_images = atk(images, labels).cuda()\n",
    "        outputs = base_model(adv_images)\n",
    "        _, pre = torch.max(outputs.data, 1)\n",
    "        imgs[f\"{atk.__class__.__name__}: {pre.cpu()[0]}\"] = adv_images[0].cpu()\n",
    "    break\n",
    "    \n",
    "from matplotlib.pyplot import figure, imshow, axis\n",
    "\n",
    "fig = figure()\n",
    "for i, (key, value) in enumerate(imgs.items()):\n",
    "    a=fig.add_subplot(1,len(imgs),i+1)\n",
    "    a.set_title(key)\n",
    "    image = value.permute(1, 2, 0)\n",
    "    imshow(image,cmap='Greys_r')\n",
    "    axis('off')\n",
    "fig.savefig('./plots/attacks_applied.png', dpi=300, bbox_inches='tight')   "
   ]
  },
  {
   "cell_type": "code",
   "execution_count": null,
   "id": "f0d2edee",
   "metadata": {},
   "outputs": [
    {
     "data": {
      "application/vnd.jupyter.widget-view+json": {
       "model_id": "f89bd6d51e004e9faa0cb1dee0411f1d",
       "version_major": 2,
       "version_minor": 0
      },
      "text/plain": [
       "  0%|          | 0/79 [00:00<?, ?it/s]"
      ]
     },
     "metadata": {},
     "output_type": "display_data"
    },
    {
     "name": "stdout",
     "output_type": "stream",
     "text": [
      "\tAccuracy for class: 0 is 18.8 %\n",
      "\tAccuracy for class: 1 is 0.1 %\n",
      "\tAccuracy for class: 2 is 7.8 %\n",
      "\tAccuracy for class: 3 is 12.4 %\n",
      "\tAccuracy for class: 4 is 1.1 %\n",
      "\tAccuracy for class: 5 is 0.3 %\n",
      "\tAccuracy for class: 6 is 15.0 %\n",
      "\tAccuracy for class: 7 is 7.2 %\n",
      "\tAccuracy for class: 8 is 0.6 %\n",
      "\tAccuracy for class: 9 is 0.0 %\n",
      "Robust accuracy for FGSM: 6.29\n"
     ]
    },
    {
     "data": {
      "application/vnd.jupyter.widget-view+json": {
       "model_id": "23bc5dc1f2df4be2bafb5f7ba6fd8552",
       "version_major": 2,
       "version_minor": 0
      },
      "text/plain": [
       "  0%|          | 0/79 [00:00<?, ?it/s]"
      ]
     },
     "metadata": {},
     "output_type": "display_data"
    },
    {
     "name": "stdout",
     "output_type": "stream",
     "text": [
      "\tAccuracy for class: 0 is 1.5 %\n",
      "\tAccuracy for class: 1 is 0.0 %\n",
      "\tAccuracy for class: 2 is 0.2 %\n",
      "\tAccuracy for class: 3 is 0.0 %\n",
      "\tAccuracy for class: 4 is 0.0 %\n",
      "\tAccuracy for class: 5 is 0.0 %\n",
      "\tAccuracy for class: 6 is 0.7 %\n",
      "\tAccuracy for class: 7 is 0.0 %\n",
      "\tAccuracy for class: 8 is 0.0 %\n",
      "\tAccuracy for class: 9 is 0.0 %\n",
      "Robust accuracy for PGD: 0.24\n"
     ]
    },
    {
     "data": {
      "application/vnd.jupyter.widget-view+json": {
       "model_id": "8749db6a9e244f26884e03c59627bd83",
       "version_major": 2,
       "version_minor": 0
      },
      "text/plain": [
       "  0%|          | 0/79 [00:00<?, ?it/s]"
      ]
     },
     "metadata": {},
     "output_type": "display_data"
    }
   ],
   "source": [
    "#test(base_model, test_loader, device, classes)\n",
    "atks = get_attacks(base_model)\n",
    "for atk in atks:\n",
    "    test_on_attack(base_model, test_loader, device, classes, atk, show_class=True)"
   ]
  },
  {
   "cell_type": "markdown",
   "id": "16ccf5c8",
   "metadata": {},
   "source": [
    "# 5. Run adversarial attacks on proposed VSGD model, varying the variabilities"
   ]
  },
  {
   "cell_type": "code",
   "execution_count": null,
   "id": "355f079b",
   "metadata": {},
   "outputs": [],
   "source": [
    "variabilities = [0.001, 0.01, 0.03, 0.05, 0.1]\n",
    "v_models = []\n",
    "accs = dict()\n",
    "for var in variabilities:\n",
    "    v_model = nets.Conv1()\n",
    "    v_model.to(device)\n",
    "    v_optim = VSGD(v_model.parameters(), variability=var, lr=learning_rate, momentum=momentum)\n",
    "    v_model.train()\n",
    "    \n",
    "    train_losses, train_counter = train_mnist(v_model, v_optim, criterion, \n",
    "                                          train_loader, device, batch_size=batch_size, \n",
    "                                          disp=False)\n",
    "    acc = test(v_model, test_loader, device, classes)\n",
    "    print(f\"Standard accuracy: {acc}\")\n",
    "    \n",
    "    atks = get_attacks(v_model)\n",
    "    \n",
    "    print(f\"Testing VSGD model with variability {var}:\")\n",
    "\n",
    "\n",
    "    \n",
    "    atk_accs = dict()\n",
    "    atk_accs['clean'] = acc\n",
    "    for atk in atks:\n",
    "        atk_accs[atk.__class__.__name__]=test_on_attack(v_model, test_loader, device, classes, atk, show_class=True)\n",
    "        \n",
    "    accs[var] = atk_accs    \n",
    "    print(\"-\"*80)\n",
    "    print(\"\\n\")\n",
    "\n",
    "import pprint\n",
    "pprint.pprint(accs)"
   ]
  },
  {
   "cell_type": "code",
   "execution_count": null,
   "id": "61bd919e",
   "metadata": {},
   "outputs": [],
   "source": []
  }
 ],
 "metadata": {
  "kernelspec": {
   "display_name": "Python 3 (ipykernel)",
   "language": "python",
   "name": "python3"
  },
  "language_info": {
   "codemirror_mode": {
    "name": "ipython",
    "version": 3
   },
   "file_extension": ".py",
   "mimetype": "text/x-python",
   "name": "python",
   "nbconvert_exporter": "python",
   "pygments_lexer": "ipython3",
   "version": "3.8.10"
  }
 },
 "nbformat": 4,
 "nbformat_minor": 5
}
